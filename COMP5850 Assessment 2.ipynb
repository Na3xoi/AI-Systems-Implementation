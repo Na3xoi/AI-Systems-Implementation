{
 "cells": [
  {
   "cell_type": "markdown",
   "metadata": {
    "colab_type": "text"
   },
   "source": [
    "# COMP5850 Assessed Class 2 #\n",
    "\n",
    "The following assessment asks a series of questions based on the structure of Convolutional Neural Networks.\n",
    "\n",
    "The assessment is marked out of 20 with the marks for the component questions attached to each one\n",
    "\n",
    "Answer each by modifyinthe code or asnwering the question asked.\n",
    "\n",
    "You may need to consult the Keras reference at https://keras.io/api/ for ideas for suitable answers. "
   ]
  },
  {
   "cell_type": "markdown",
   "metadata": {
    "colab_type": "text"
   },
   "source": [
    "# Q1 (7 marks out of 20 total) # \n",
    "\n",
    "Examine the following skeleton definition of a CNN in Keras similar to that employed in Class 4\n",
    "\n",
    "Fill in the missing sections to define a convolutional neural network with the following configuration\n",
    "\n",
    "- one convolutional layers with 16 filter, a kernel size of 3 and rectified linear activation.\n",
    "\n",
    "- One Max pooling layer with a pool size of 2. Place this at an appropriate position with the network.\n",
    "\n",
    "- three fully connected layers\n",
    "\n",
    "- a suitable number of units in each layer\n",
    "\n",
    "- a suitable activation function for each layer bearing in mind these may not be the same for each layer. \n",
    "\n",
    "- the final layer should have 10 outputs and \"softmax\" activation.\n",
    "\n",
    "- One other type of layer is required within this configuration. Identify what it should be and place it at an appropraite position in the network.\n",
    "\n"
   ]
  },
  {
   "cell_type": "code",
   "execution_count": 1,
   "metadata": {
    "colab_type": "code"
   },
   "outputs": [
    {
     "ename": "SyntaxError",
     "evalue": "invalid syntax (615771304.py, line 5)",
     "output_type": "error",
     "traceback": [
      "\u001b[0;36m  File \u001b[0;32m\"/tmp/ipykernel_3066793/615771304.py\"\u001b[0;36m, line \u001b[0;32m5\u001b[0m\n\u001b[0;31m    outputs = l?????????????\u001b[0m\n\u001b[0m               ^\u001b[0m\n\u001b[0;31mSyntaxError\u001b[0m\u001b[0;31m:\u001b[0m invalid syntax\n"
     ]
    }
   ],
   "source": [
    "from tensorflow import keras\n",
    "from tensorflow.keras import layers\n",
    "inputs = keras.Input(shape=(28, 28, 1))\n",
    "??????????????\n",
    "outputs = l?????????????\n",
    "\n",
    "model = keras.Model(inputs=inputs, outputs=outputs)"
   ]
  },
  {
   "cell_type": "markdown",
   "metadata": {
    "colab_type": "text"
   },
   "source": [
    "**Displaying the model's summary**"
   ]
  },
  {
   "cell_type": "code",
   "execution_count": null,
   "metadata": {
    "colab_type": "code"
   },
   "outputs": [],
   "source": [
    "model.summary()"
   ]
  },
  {
   "cell_type": "markdown",
   "metadata": {
    "colab_type": "text"
   },
   "source": [
    "# Q2 (3 marks out of 20 total) # \n",
    "\n",
    "Provide suitable configurations to compile the model in Q1 using an optimiser and an error calculation. \n",
    "- ensure you use a different, though still appropriate, optimiser that the \"adam\" optimiser used in Class 3.\n",
    "- choose an appropraite error (\"loss\") function.\n",
    "\n",
    "- train the network for 10 epochs with a suitable batch size."
   ]
  },
  {
   "cell_type": "code",
   "execution_count": null,
   "metadata": {
    "colab_type": "code"
   },
   "outputs": [],
   "source": [
    "from tensorflow.keras.datasets import mnist\n",
    "\n",
    "(train_images, train_labels), (test_images, test_labels) = mnist.load_data()\n",
    "train_images = train_images.reshape((60000, 28, 28, 1))\n",
    "train_images = train_images.astype(\"float32\") / 255\n",
    "test_images = test_images.reshape((10000, 28, 28, 1))\n",
    "test_images = test_images.astype(\"float32\") / 255\n",
    "\n",
    "model.compile(????????????)\n",
    "\n",
    "model.fit(????????????)"
   ]
  },
  {
   "cell_type": "markdown",
   "metadata": {
    "colab_type": "text"
   },
   "source": [
    "**Evaluating the convnet**"
   ]
  },
  {
   "cell_type": "code",
   "execution_count": null,
   "metadata": {
    "colab_type": "code"
   },
   "outputs": [],
   "source": [
    "test_loss, test_acc = model.evaluate(test_images, test_labels)\n",
    "print(f\"Test accuracy: {test_acc:.3f}\")"
   ]
  },
  {
   "cell_type": "markdown",
   "metadata": {},
   "source": [
    "# Q3 (10 marks out of 20 total) # \n",
    "\n",
    "Explain the concept and structure of a convolutional neural network providing an intuition of the function of each layer. Why is the concept of a hyperplane useful in describing the operation of a fully connected layer?\n",
    "\n",
    "Explain what is meant by Deep Learning."
   ]
  },
  {
   "cell_type": "markdown",
   "metadata": {},
   "source": [
    "Q3 Answer:"
   ]
  }
 ],
 "metadata": {
  "colab": {
   "collapsed_sections": [],
   "name": "chapter08_intro-to-dl-for-computer-vision.i",
   "private_outputs": false,
   "provenance": [],
   "toc_visible": true
  },
  "kernelspec": {
   "display_name": "Python 3 (ipykernel)",
   "language": "python",
   "name": "python3"
  },
  "language_info": {
   "codemirror_mode": {
    "name": "ipython",
    "version": 3
   },
   "file_extension": ".py",
   "mimetype": "text/x-python",
   "name": "python",
   "nbconvert_exporter": "python",
   "pygments_lexer": "ipython3",
   "version": "3.8.10"
  }
 },
 "nbformat": 4,
 "nbformat_minor": 1
}
